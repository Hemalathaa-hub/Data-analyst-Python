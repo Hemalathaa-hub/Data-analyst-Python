{
 "cells": [
  {
   "cell_type": "markdown",
   "metadata": {},
   "source": [
    "CALCULATOR USING PYTHON"
   ]
  },
  {
   "cell_type": "code",
   "execution_count": 4,
   "metadata": {},
   "outputs": [
    {
     "name": "stdout",
     "output_type": "stream",
     "text": [
      "Addition of two number= 22\n",
      "subtraction of two number= 18\n",
      "Multiplication of two number= 40\n",
      "Division of two number= 10.0\n"
     ]
    }
   ],
   "source": [
    "num1=int(input(\"Enter the value of num1=\"))\n",
    "num2=int(input(\"Enter the value of num2=\"))\n",
    "\n",
    "sum=num1+num2\n",
    "sub=num1-num2\n",
    "mul=num1*num2\n",
    "div=num1/num2\n",
    "\n",
    "print(\"Addition of two number=\",sum)\n",
    "print(\"subtraction of two number=\",sub)\n",
    "print(\"Multiplication of two number=\",mul)\n",
    "print(\"Division of two number=\",div)\n"
   ]
  },
  {
   "cell_type": "markdown",
   "metadata": {},
   "source": [
    "Indentation program"
   ]
  },
  {
   "cell_type": "code",
   "execution_count": 2,
   "metadata": {},
   "outputs": [
    {
     "name": "stdout",
     "output_type": "stream",
     "text": [
      "c is the biggest number, the value of c is 5\n"
     ]
    }
   ],
   "source": [
    "a=int(input(\"Enter the value of a=\"))\n",
    "b=int(input(\"Enter the value of b=\"))\n",
    "c=int(input(\"Enter the value of c=\"))\n",
    "\n",
    "if a>b and a>c:\n",
    "    print(\"A is the biggest number, the value of A is\",a)\n",
    "elif b>c:\n",
    "    print(\"B is the biggest number, the value of b is\",b)\n",
    "else:\n",
    "    print(\"c is the biggest number, the value of c is\",c)\n"
   ]
  },
  {
   "cell_type": "markdown",
   "metadata": {},
   "source": [
    "calculator using conditional operator"
   ]
  },
  {
   "cell_type": "code",
   "execution_count": 6,
   "metadata": {},
   "outputs": [
    {
     "name": "stdout",
     "output_type": "stream",
     "text": [
      "floor div of two number is 5.0\n"
     ]
    }
   ],
   "source": [
    "num1=float(input(\"Enter the value of num1=\"))\n",
    "num2=float(input(\"Enter the value of num2=\"))\n",
    "operator=input(\"operator\")\n",
    "\n",
    "if operator== '+':\n",
    "    print(\"Addition of two number is\",(num1+num2))\n",
    "elif operator=='-':\n",
    "    print(\"subtraction of two number is\",(num1-num2))\n",
    "elif operator=='*':\n",
    "    print(\"Multiplication of two number is\",(num1*num2))\n",
    "elif operator=='/':\n",
    "    print(\"Division of two number is\",(num1/num2))\n",
    "elif operator=='%':\n",
    "    print(\"modulus of two number is\",(num1%num2))\n",
    "elif operator=='//':\n",
    "    print(\"floor div of two number is\",(num1//num2))\n",
    "elif operator=='**':\n",
    "    print(\"exponentional of given number is\",(num1**num2))\n",
    "else:\n",
    "    print(\"please enter correct symbol\")"
   ]
  },
  {
   "cell_type": "markdown",
   "metadata": {},
   "source": [
    "Find Loop year using conditional statement"
   ]
  },
  {
   "cell_type": "code",
   "execution_count": 7,
   "metadata": {},
   "outputs": [
    {
     "name": "stdout",
     "output_type": "stream",
     "text": [
      "2024 is Leap year\n"
     ]
    }
   ],
   "source": [
    "year=int(input(\"Enter the year=\"))\n",
    "\n",
    "if year%4==0:\n",
    "    print(year,\"is Leap year\")\n",
    "else:\n",
    "    print(year,\"is not leap year\")"
   ]
  },
  {
   "cell_type": "markdown",
   "metadata": {},
   "source": [
    "Amount of ticket age wise using conditional operator"
   ]
  },
  {
   "cell_type": "code",
   "execution_count": 16,
   "metadata": {},
   "outputs": [
    {
     "name": "stdout",
     "output_type": "stream",
     "text": [
      "The cost of ticket is 10rs\n"
     ]
    }
   ],
   "source": [
    "age=int(input(\"please enter the age\"))\n",
    "\n",
    "if age<5:\n",
    "    print(\"The ticket is free for children\")\n",
    "elif age<20:\n",
    "    print(\"The cost of ticket is 10rs\")\n",
    "elif age<60:\n",
    "    print(\"The cost of ticket is 20rs\")\n",
    "else:\n",
    "    print(\"Ticket is free for senior citizens\")"
   ]
  }
 ],
 "metadata": {
  "kernelspec": {
   "display_name": "Python 3",
   "language": "python",
   "name": "python3"
  },
  "language_info": {
   "codemirror_mode": {
    "name": "ipython",
    "version": 3
   },
   "file_extension": ".py",
   "mimetype": "text/x-python",
   "name": "python",
   "nbconvert_exporter": "python",
   "pygments_lexer": "ipython3",
   "version": "3.12.7"
  }
 },
 "nbformat": 4,
 "nbformat_minor": 2
}
