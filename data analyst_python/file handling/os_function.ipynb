{
 "cells": [
  {
   "cell_type": "code",
   "execution_count": 4,
   "id": "c6e293cc",
   "metadata": {},
   "outputs": [],
   "source": [
    "### create a new directory\n",
    "import os\n",
    "os.mkdir(\"new\")"
   ]
  },
  {
   "cell_type": "code",
   "execution_count": 2,
   "id": "fd131714",
   "metadata": {},
   "outputs": [
    {
     "name": "stdout",
     "output_type": "stream",
     "text": [
      "e:\\Data analyst\\python\\data analyst_python\\file handling\n"
     ]
    }
   ],
   "source": [
    "### get the directory\n",
    "import os\n",
    "directory_name=os.getcwd()\n",
    "print(directory_name)\n"
   ]
  },
  {
   "cell_type": "code",
   "execution_count": 8,
   "id": "0b22e11a",
   "metadata": {},
   "outputs": [
    {
     "name": "stdout",
     "output_type": "stream",
     "text": [
      "['new', 'os_function.ipynb']\n"
     ]
    }
   ],
   "source": [
    "### to know the list of directories\n",
    "import os\n",
    "list_dir=os.listdir()\n",
    "print(list_dir)"
   ]
  },
  {
   "cell_type": "code",
   "execution_count": 12,
   "id": "5b959ad8",
   "metadata": {},
   "outputs": [
    {
     "name": "stdout",
     "output_type": "stream",
     "text": [
      "True\n"
     ]
    }
   ],
   "source": [
    "### to know the path is exists\n",
    "import os\n",
    "path=os.path.exists(\"os_function.ipynb\")\n",
    "print(path)\n"
   ]
  },
  {
   "cell_type": "code",
   "execution_count": 15,
   "id": "03f91c88",
   "metadata": {},
   "outputs": [
    {
     "name": "stdout",
     "output_type": "stream",
     "text": [
      "os_function.ipynb is path\n"
     ]
    }
   ],
   "source": [
    "### to check whether the certain file is path or directory\n",
    "import os\n",
    "path=\"os_function.ipynb\"\n",
    "if os.path.isfile(path):\n",
    "    print(f\"{path} is path\")\n",
    "elif os.path.isdir(path):\n",
    "    print(f\"{path} is a directory\")\n",
    "else:\n",
    "    print(f\"{path} is neither path nor directory\")"
   ]
  },
  {
   "cell_type": "code",
   "execution_count": 17,
   "id": "c19b6d5c",
   "metadata": {},
   "outputs": [
    {
     "name": "stdout",
     "output_type": "stream",
     "text": [
      "filehandling\\new.txt\n"
     ]
    }
   ],
   "source": [
    "#join relative path\n",
    "import os\n",
    "dir=\"filehandling\"\n",
    "file=\"new.txt\"\n",
    "relative_path=os.path.join(dir,file)\n",
    "print(relative_path)"
   ]
  },
  {
   "cell_type": "code",
   "execution_count": 22,
   "id": "c9f68717",
   "metadata": {},
   "outputs": [
    {
     "name": "stdout",
     "output_type": "stream",
     "text": [
      "('e:\\\\Data analyst\\\\python\\\\data analyst_python\\\\file handling', 'filehandling\\\\new.txt')\n"
     ]
    }
   ],
   "source": [
    "import os\n",
    "dir=\"filehandling\"\n",
    "file=\"new.txt\"\n",
    "relative_path=os.getcwd() ,os.path.join(dir,file)\n",
    "print(relative_path)"
   ]
  },
  {
   "cell_type": "code",
   "execution_count": 24,
   "id": "4243af5d",
   "metadata": {},
   "outputs": [
    {
     "name": "stdout",
     "output_type": "stream",
     "text": [
      "e:\\Data analyst\\python\\data analyst_python\\file handling\\os_function.ipynb\n"
     ]
    }
   ],
   "source": [
    "#to know absolure path\n",
    "import os\n",
    "abs_path=os.path.abspath(\"os_function.ipynb\")\n",
    "print(abs_path)"
   ]
  }
 ],
 "metadata": {
  "kernelspec": {
   "display_name": "Python 3",
   "language": "python",
   "name": "python3"
  },
  "language_info": {
   "codemirror_mode": {
    "name": "ipython",
    "version": 3
   },
   "file_extension": ".py",
   "mimetype": "text/x-python",
   "name": "python",
   "nbconvert_exporter": "python",
   "pygments_lexer": "ipython3",
   "version": "3.12.7"
  }
 },
 "nbformat": 4,
 "nbformat_minor": 5
}
