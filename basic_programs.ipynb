{
 "cells": [
  {
   "cell_type": "markdown",
   "metadata": {},
   "source": [
    "CALCULATOR USING PYTHON"
   ]
  },
  {
   "cell_type": "markdown",
   "metadata": {},
   "source": []
  },
  {
   "cell_type": "code",
   "execution_count": 4,
   "metadata": {},
   "outputs": [
    {
     "name": "stdout",
     "output_type": "stream",
     "text": [
      "Addition of two number= 22\n",
      "subtraction of two number= 18\n",
      "Multiplication of two number= 40\n",
      "Division of two number= 10.0\n"
     ]
    }
   ],
   "source": [
    "num1=int(input(\"Enter the value of num1=\"))\n",
    "num2=int(input(\"Enter the value of num2=\"))\n",
    "\n",
    "sum=num1+num2\n",
    "sub=num1-num2\n",
    "mul=num1*num2\n",
    "div=num1/num2\n",
    "\n",
    "print(\"Addition of two number=\",sum)\n",
    "print(\"subtraction of two number=\",sub)\n",
    "print(\"Multiplication of two number=\",mul)\n",
    "print(\"Division of two number=\",div)\n"
   ]
  },
  {
   "cell_type": "markdown",
   "metadata": {},
   "source": [
    "Indentation program"
   ]
  },
  {
   "cell_type": "code",
   "execution_count": 2,
   "metadata": {},
   "outputs": [
    {
     "name": "stdout",
     "output_type": "stream",
     "text": [
      "c is the biggest number, the value of c is 5\n"
     ]
    }
   ],
   "source": [
    "a=int(input(\"Enter the value of a=\"))\n",
    "b=int(input(\"Enter the value of b=\"))\n",
    "c=int(input(\"Enter the value of c=\"))\n",
    "\n",
    "if a>b and a>c:\n",
    "    print(\"A is the biggest number, the value of A is\",a)\n",
    "elif b>c:\n",
    "    print(\"B is the biggest number, the value of b is\",b)\n",
    "else:\n",
    "    print(\"c is the biggest number, the value of c is\",c)\n"
   ]
  },
  {
   "cell_type": "markdown",
   "metadata": {},
   "source": [
    "calculator using conditional operator"
   ]
  },
  {
   "cell_type": "code",
   "execution_count": 6,
   "metadata": {},
   "outputs": [
    {
     "name": "stdout",
     "output_type": "stream",
     "text": [
      "floor div of two number is 5.0\n"
     ]
    }
   ],
   "source": [
    "num1=float(input(\"Enter the value of num1=\"))\n",
    "num2=float(input(\"Enter the value of num2=\"))\n",
    "operator=input(\"operator\")\n",
    "\n",
    "if operator== '+':\n",
    "    print(\"Addition of two number is\",(num1+num2))\n",
    "elif operator=='-':\n",
    "    print(\"subtraction of two number is\",(num1-num2))\n",
    "elif operator=='*':\n",
    "    print(\"Multiplication of two number is\",(num1*num2))\n",
    "elif operator=='/':\n",
    "    print(\"Division of two number is\",(num1/num2))\n",
    "elif operator=='%':\n",
    "    print(\"modulus of two number is\",(num1%num2))\n",
    "elif operator=='//':\n",
    "    print(\"floor div of two number is\",(num1//num2))\n",
    "elif operator=='**':\n",
    "    print(\"exponentional of given number is\",(num1**num2))\n",
    "else:\n",
    "    print(\"please enter correct symbol\")"
   ]
  },
  {
   "cell_type": "markdown",
   "metadata": {},
   "source": [
    "Find Loop year using conditional statement"
   ]
  },
  {
   "cell_type": "code",
   "execution_count": 7,
   "metadata": {},
   "outputs": [
    {
     "name": "stdout",
     "output_type": "stream",
     "text": [
      "2024 is Leap year\n"
     ]
    }
   ],
   "source": [
    "year=int(input(\"Enter the year=\"))\n",
    "\n",
    "if year%4==0:\n",
    "    print(year,\"is Leap year\")\n",
    "else:\n",
    "    print(year,\"is not leap year\")"
   ]
  },
  {
   "cell_type": "markdown",
   "metadata": {},
   "source": [
    "Amount of ticket age wise using conditional operator"
   ]
  },
  {
   "cell_type": "code",
   "execution_count": 16,
   "metadata": {},
   "outputs": [
    {
     "name": "stdout",
     "output_type": "stream",
     "text": [
      "The cost of ticket is 10rs\n"
     ]
    }
   ],
   "source": [
    "age=int(input(\"please enter the age\"))\n",
    "\n",
    "if age<5:\n",
    "    print(\"The ticket is free for children\")\n",
    "elif age<20:\n",
    "    print(\"The cost of ticket is 10rs\")\n",
    "elif age<60:\n",
    "    print(\"The cost of ticket is 20rs\")\n",
    "else:\n",
    "    print(\"Ticket is free for senior citizens\")"
   ]
  },
  {
   "cell_type": "markdown",
   "metadata": {},
   "source": [
    "Write a Python program to calculate the factorial of a number."
   ]
  },
  {
   "cell_type": "code",
   "execution_count": null,
   "metadata": {},
   "outputs": [],
   "source": [
    "=int(input(\"enter the value=\"))\n",
    "fact=1\n",
    "while(i>0):\n",
    "    fact=fact*i\n",
    "    i=i-1\n",
    "print(fact)"
   ]
  },
  {
   "cell_type": "markdown",
   "metadata": {},
   "source": [
    "Write a Python program to swap the values of two variables."
   ]
  },
  {
   "cell_type": "code",
   "execution_count": null,
   "metadata": {},
   "outputs": [],
   "source": [
    "a=5\n",
    "b=10\n",
    "a,b=b,a\n",
    "print(\"a\",a)\n",
    "print(\"b\",b)"
   ]
  },
  {
   "cell_type": "markdown",
   "metadata": {},
   "source": [
    "#### Write a Python program to convert Celsius to Fahrenheit."
   ]
  },
  {
   "cell_type": "code",
   "execution_count": null,
   "metadata": {},
   "outputs": [],
   "source": [
    "\n",
    "\n",
    "celcius=float(input(\"enter the celcius value\"))\n",
    "faren=(celcius*1.8)+32\n",
    "print(faren)\n"
   ]
  },
  {
   "cell_type": "markdown",
   "metadata": {},
   "source": [
    " Write a Python program to concatenate two strings."
   ]
  },
  {
   "cell_type": "code",
   "execution_count": null,
   "metadata": {},
   "outputs": [],
   "source": [
    "string1=\"hello\"\n",
    "string2=\"world\"\n",
    "print(string1+string2)"
   ]
  },
  {
   "cell_type": "markdown",
   "metadata": {},
   "source": [
    " Write a Python program to check if a variable is of a specific data type."
   ]
  },
  {
   "cell_type": "code",
   "execution_count": null,
   "metadata": {},
   "outputs": [],
   "source": [
    "variable=input(\"enter the variable to check the datatype\")\n",
    "print(type(variable))"
   ]
  },
  {
   "cell_type": "markdown",
   "metadata": {},
   "source": [
    "Write a Python program to find the sum of the first n natural numbers."
   ]
  },
  {
   "cell_type": "code",
   "execution_count": null,
   "metadata": {},
   "outputs": [],
   "source": [
    "N=int(input(\"enter the n value\"))\n",
    "sum=0\n",
    "for i in range(N):\n",
    "    sum=sum+i\n",
    "print(sum)"
   ]
  },
  {
   "cell_type": "markdown",
   "metadata": {},
   "source": [
    "Write a Python program to reverse a string."
   ]
  },
  {
   "cell_type": "code",
   "execution_count": null,
   "metadata": {},
   "outputs": [],
   "source": [
    "name=input(\"enter the string to reverse\")\n",
    "print(\"reverse_string=\",name[::-1])"
   ]
  },
  {
   "cell_type": "markdown",
   "metadata": {},
   "source": [
    "Write a Python program to check if a string is a palindrome."
   ]
  },
  {
   "cell_type": "code",
   "execution_count": null,
   "metadata": {},
   "outputs": [],
   "source": [
    "name1=input(\"enter the first name\")\n",
    "if name1==name1[::-1]:\n",
    "    print(\"the given string is polindrome\")\n",
    "else:\n",
    "    print(\"the given string is not polindrome\")"
   ]
  },
  {
   "cell_type": "markdown",
   "metadata": {},
   "source": [
    " Write a Python program to concatenate two strings."
   ]
  },
  {
   "cell_type": "code",
   "execution_count": null,
   "metadata": {},
   "outputs": [],
   "source": [
    "lst=[1,4,1,5,2,3,4]\n",
    "num=sorted(lst)\n",
    "print(num)"
   ]
  },
  {
   "cell_type": "markdown",
   "metadata": {},
   "source": [
    "Write a program that asks the user to input a number and prints whether the number is positive and even, positive and odd, or negative."
   ]
  },
  {
   "cell_type": "code",
   "execution_count": 1,
   "metadata": {},
   "outputs": [
    {
     "name": "stdout",
     "output_type": "stream",
     "text": [
      "78 is even and positive\n"
     ]
    }
   ],
   "source": [
    "value = int(input(\"enter the value\"))\n",
    "\n",
    "if value > 0 and value % 2 == 0:\n",
    "    print(value, \"is even and positive\")\n",
    "elif value > 0 and value % 2 != 0:\n",
    "    print(value, \"is odd and positive\")\n",
    "else:\n",
    "    print(value, \"is negative\")\n"
   ]
  },
  {
   "cell_type": "markdown",
   "metadata": {},
   "source": [
    "Write a program that asks the user to input a number and prints whether the number is positive, negative, or zero."
   ]
  },
  {
   "cell_type": "code",
   "execution_count": null,
   "metadata": {},
   "outputs": [],
   "source": [
    "number=int(input(\"enter the value\"))\n",
    "if number>0:\n",
    "    print(number,\"number is positive\")\n",
    "elif number<0:\n",
    "    print(number,\"is negative\")\n",
    "else:\n",
    "    print(number,\"is zero\")"
   ]
  },
  {
   "cell_type": "code",
   "execution_count": 12,
   "metadata": {},
   "outputs": [
    {
     "ename": "ValueError",
     "evalue": "invalid literal for int() with base 10: '10\\\\'",
     "output_type": "error",
     "traceback": [
      "\u001b[31m---------------------------------------------------------------------------\u001b[39m",
      "\u001b[31mValueError\u001b[39m                                Traceback (most recent call last)",
      "\u001b[36mCell\u001b[39m\u001b[36m \u001b[39m\u001b[32mIn[12]\u001b[39m\u001b[32m, line 1\u001b[39m\n\u001b[32m----> \u001b[39m\u001b[32m1\u001b[39m b=\u001b[38;5;28;43mint\u001b[39;49m\u001b[43m(\u001b[49m\u001b[38;5;28;43minput\u001b[39;49m\u001b[43m(\u001b[49m\u001b[33;43m\"\u001b[39;49m\u001b[33;43menter the value\u001b[39;49m\u001b[33;43m\"\u001b[39;49m\u001b[43m)\u001b[49m\u001b[43m)\u001b[49m\n\u001b[32m      2\u001b[39m \u001b[38;5;28;01mfor\u001b[39;00m i \u001b[38;5;129;01min\u001b[39;00m \u001b[38;5;28mrange\u001b[39m(\u001b[32m1\u001b[39m,b+\u001b[32m1\u001b[39m):\n\u001b[32m      3\u001b[39m     \u001b[38;5;28;01mif\u001b[39;00m i%\u001b[32m2\u001b[39m==\u001b[32m0\u001b[39m:\n",
      "\u001b[31mValueError\u001b[39m: invalid literal for int() with base 10: '10\\\\'"
     ]
    }
   ],
   "source": [
    "b=int(input(\"enter the value\"))\n",
    "for i in range(1,b+1):\n",
    "    if i%2==0:\n",
    "        print(\"even\",i)"
   ]
  }
 ],
 "metadata": {
  "kernelspec": {
   "display_name": "Python 3",
   "language": "python",
   "name": "python3"
  },
  "language_info": {
   "codemirror_mode": {
    "name": "ipython",
    "version": 3
   },
   "file_extension": ".py",
   "mimetype": "text/x-python",
   "name": "python",
   "nbconvert_exporter": "python",
   "pygments_lexer": "ipython3",
   "version": "3.12.7"
  }
 },
 "nbformat": 4,
 "nbformat_minor": 2
}
