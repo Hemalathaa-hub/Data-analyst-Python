{
 "cells": [
  {
   "cell_type": "markdown",
   "id": "6b3ac835",
   "metadata": {},
   "source": [
    "Create a list of the first 20 positive integers. Print the list."
   ]
  },
  {
   "cell_type": "code",
   "execution_count": 14,
   "id": "adf3e0b2",
   "metadata": {},
   "outputs": [
    {
     "name": "stdout",
     "output_type": "stream",
     "text": [
      "[1, 2, 3, 4, 5, 6, 7, 8, 9, 10, 11, 12, 13, 14, 15, 16, 17, 18, 19, 20]\n"
     ]
    }
   ],
   "source": [
    "list=[list for list in range(1,21)]\n",
    "print(list)"
   ]
  },
  {
   "cell_type": "markdown",
   "id": "660ac308",
   "metadata": {},
   "source": [
    "    Print the first, middle, and last elements of the list created in Assignment 1."
   ]
  },
  {
   "cell_type": "code",
   "execution_count": 21,
   "id": "84fa69a0",
   "metadata": {},
   "outputs": [
    {
     "name": "stdout",
     "output_type": "stream",
     "text": [
      "first element 1\n",
      "last element 20\n",
      "middle element 11\n"
     ]
    }
   ],
   "source": [
    "print(\"first element\",list[0])\n",
    "print(\"last element\",list[-1])\n",
    "print(\"middle element\",list[len(list)//2])"
   ]
  },
  {
   "cell_type": "markdown",
   "id": "ff6bb2ed",
   "metadata": {},
   "source": [
    "Print the first five elements, the last five elements, and the elements from index 5 to 15 of the list created in Assignment 1."
   ]
  },
  {
   "cell_type": "code",
   "execution_count": 24,
   "id": "161afe03",
   "metadata": {},
   "outputs": [
    {
     "name": "stdout",
     "output_type": "stream",
     "text": [
      "[1, 2, 3, 4, 5]\n",
      "[16, 17, 18, 19, 20]\n",
      "[6, 7, 8, 9, 10, 11, 12, 13, 14, 15]\n"
     ]
    }
   ],
   "source": [
    "print(list[:5])\n",
    "print(list[-5:])\n",
    "print(list[5:15])"
   ]
  },
  {
   "cell_type": "markdown",
   "id": "e29e5831",
   "metadata": {},
   "source": [
    "\n",
    "Create a new list containing the squares of the first 10 positive integers using a list comprehension. Print the new list."
   ]
  },
  {
   "cell_type": "code",
   "execution_count": 28,
   "id": "d86b64c4",
   "metadata": {},
   "outputs": [
    {
     "name": "stdout",
     "output_type": "stream",
     "text": [
      "[1, 4, 9, 16, 25, 36, 49, 64, 81, 100]\n"
     ]
    }
   ],
   "source": [
    "lst=[lst**2 for lst in  range(1,11) ]\n",
    "print(lst)"
   ]
  },
  {
   "cell_type": "markdown",
   "id": "538353c7",
   "metadata": {},
   "source": [
    "Create a new list containing only the even numbers from the list created in Assignment 1 using a list comprehension. Print the new list."
   ]
  },
  {
   "cell_type": "code",
   "execution_count": 33,
   "id": "231d410a",
   "metadata": {},
   "outputs": [
    {
     "name": "stdout",
     "output_type": "stream",
     "text": [
      "[2, 4, 6, 8, 10, 12, 14, 16, 18, 20]\n"
     ]
    }
   ],
   "source": [
    "even=[x for x in list if x%2==0]   \n",
    "print(even)"
   ]
  },
  {
   "cell_type": "markdown",
   "id": "6e2ef4d2",
   "metadata": {},
   "source": [
    "Create a list of random numbers and sort it in ascending and descending order. Remove the duplicates from the list and print the modified list.\n"
   ]
  },
  {
   "cell_type": "code",
   "execution_count": 1,
   "id": "787db2c5",
   "metadata": {},
   "outputs": [
    {
     "name": "stdout",
     "output_type": "stream",
     "text": [
      "[1, 1, 2, 2, 3, 3, 5, 5, 6, 7]\n",
      "[7, 6, 5, 5, 3, 3, 2, 2, 1, 1]\n",
      "{1, 2, 3, 5, 6, 7}\n"
     ]
    }
   ],
   "source": [
    "random=[1,2,5,1,6,7,3,2,3,5]\n",
    "print(sorted(random))\n",
    "print(sorted(random,reverse=True))\n",
    "print(set(random))"
   ]
  },
  {
   "cell_type": "markdown",
   "id": "c2de02f6",
   "metadata": {},
   "source": [
    "Create a nested list representing a 3x3 matrix and print the matrix. Access and print the element at the second row and third column."
   ]
  },
  {
   "cell_type": "code",
   "execution_count": 36,
   "id": "b4286c1f",
   "metadata": {},
   "outputs": [
    {
     "name": "stdout",
     "output_type": "stream",
     "text": [
      "[1, 2, 3]\n",
      "[4, 3, 2]\n",
      "[2, 2, 5]\n",
      "2\n"
     ]
    }
   ],
   "source": [
    "matrix=[[1,2,3],[4,3,2],[2,2,5]]\n",
    "for row in matrix:\n",
    "    print(row)\n",
    "print(matrix[1][2])"
   ]
  },
  {
   "cell_type": "markdown",
   "id": "5423559e",
   "metadata": {},
   "source": [
    "\n",
    "Create a list of the first 10 positive integers. Remove the elements at indices 2, 4, and 6, and insert the element '99' at index 5. Print the modified list."
   ]
  },
  {
   "cell_type": "code",
   "execution_count": 17,
   "id": "1ac0452c",
   "metadata": {},
   "outputs": [
    {
     "name": "stdout",
     "output_type": "stream",
     "text": [
      "[1, 2, 3, 4, 5, 6, 7, 8, 9, 10]\n",
      "[1, 2, 3, 4, 5, 99, 7, 8, 9, 10]\n"
     ]
    }
   ],
   "source": [
    "list=[list for list in range(1,11)]\n",
    "print(list)\n",
    "del list[5]\n",
    "list.insert(5,99)\n",
    "print(list)"
   ]
  }
 ],
 "metadata": {
  "kernelspec": {
   "display_name": "Python 3",
   "language": "python",
   "name": "python3"
  },
  "language_info": {
   "codemirror_mode": {
    "name": "ipython",
    "version": 3
   },
   "file_extension": ".py",
   "mimetype": "text/x-python",
   "name": "python",
   "nbconvert_exporter": "python",
   "pygments_lexer": "ipython3",
   "version": "3.12.7"
  }
 },
 "nbformat": 4,
 "nbformat_minor": 5
}
