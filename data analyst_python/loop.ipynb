{
 "cells": [
  {
   "cell_type": "markdown",
   "id": "03adc715",
   "metadata": {},
   "source": [
    "Write a program that prints all the numbers from 1 to 10 using a for loop."
   ]
  },
  {
   "cell_type": "code",
   "execution_count": 41,
   "id": "a7730400",
   "metadata": {},
   "outputs": [
    {
     "name": "stdout",
     "output_type": "stream",
     "text": [
      "1,2,3,4,5,6,7,8,9,10,"
     ]
    }
   ],
   "source": [
    "for i in range(1,11):\n",
    "    print(i,end=\",\")"
   ]
  },
  {
   "cell_type": "markdown",
   "id": "bd660df6",
   "metadata": {},
   "source": [
    "Write a program that prints all the numbers from 1 to 10 using a while loop."
   ]
  },
  {
   "cell_type": "code",
   "execution_count": 12,
   "id": "214ed55e",
   "metadata": {},
   "outputs": [
    {
     "name": "stdout",
     "output_type": "stream",
     "text": [
      "1,2,3,4,5,6,7,8,9,10,"
     ]
    }
   ],
   "source": [
    "i=1\n",
    "while(i<11):\n",
    "    print(i,end=\",\")\n",
    "    i=i+1"
   ]
  },
  {
   "cell_type": "markdown",
   "id": "5f3b4134",
   "metadata": {},
   "source": [
    "Write a program that prints a 5x5 grid of asterisks (*) using nested loops."
   ]
  },
  {
   "cell_type": "code",
   "execution_count": 53,
   "id": "f8dbf357",
   "metadata": {},
   "outputs": [
    {
     "name": "stdout",
     "output_type": "stream",
     "text": [
      "\n",
      "*****\n",
      "*****\n",
      "*****\n",
      "*****\n",
      "*****"
     ]
    }
   ],
   "source": [
    "for i in range(5):\n",
    "    print()\n",
    "    for j in range(5):\n",
    "        print(\"*\",end=\"\")"
   ]
  },
  {
   "cell_type": "markdown",
   "id": "4127f5cb",
   "metadata": {},
   "source": [
    "Write a program that asks the user to input numbers until they input 0. The program should print the sum of all the input numbers."
   ]
  },
  {
   "cell_type": "code",
   "execution_count": 7,
   "id": "f106eade",
   "metadata": {},
   "outputs": [
    {
     "name": "stdout",
     "output_type": "stream",
     "text": [
      "the sum of all value= 16\n"
     ]
    }
   ],
   "source": [
    "sum=0\n",
    "while True:\n",
    "    val=int(input(\"enter the value\"))\n",
    "    if val==0:\n",
    "        break\n",
    "    sum=sum+val\n",
    "print(\"the sum of all value=\",sum)"
   ]
  },
  {
   "cell_type": "markdown",
   "id": "04e88b76",
   "metadata": {},
   "source": [
    "Write a program that prints all the numbers from 1 to 10 except 5 using a for loop and continue statement."
   ]
  },
  {
   "cell_type": "code",
   "execution_count": 82,
   "id": "47cdd767",
   "metadata": {},
   "outputs": [
    {
     "name": "stdout",
     "output_type": "stream",
     "text": [
      "1\n",
      "2\n",
      "3\n",
      "4\n",
      "6\n",
      "7\n",
      "8\n",
      "9\n",
      "10\n"
     ]
    }
   ],
   "source": [
    "for i in range(1,11):\n",
    "    if i==5:\n",
    "        continue\n",
    "    print(i)"
   ]
  },
  {
   "cell_type": "markdown",
   "id": "9c78ab5c",
   "metadata": {},
   "source": [
    "Write a program that defines an empty function using the pass statement."
   ]
  },
  {
   "cell_type": "code",
   "execution_count": 83,
   "id": "32a30576",
   "metadata": {},
   "outputs": [],
   "source": [
    "def emptyfun():\n",
    "    pass"
   ]
  },
  {
   "cell_type": "markdown",
   "id": "6e407cf1",
   "metadata": {},
   "source": [
    "write a program that asks the user to input a number and prints all the even numbers from 1 to that number using a for loop.\n"
   ]
  },
  {
   "cell_type": "code",
   "execution_count": 5,
   "id": "d749fb3a",
   "metadata": {},
   "outputs": [
    {
     "name": "stdout",
     "output_type": "stream",
     "text": [
      "2\n",
      "4\n",
      "6\n",
      "8\n"
     ]
    }
   ],
   "source": [
    "b=int(input(\"enter the value\"))\n",
    "for i in range(1,b):\n",
    "   if i%2==0:\n",
    "        print(i)\n",
    "        "
   ]
  },
  {
   "cell_type": "markdown",
   "id": "7f2cc7cf",
   "metadata": {},
   "source": [
    "Write a program that calculates the factorial of a number input by the user using a while loop."
   ]
  },
  {
   "cell_type": "code",
   "execution_count": 6,
   "id": "a43b5371",
   "metadata": {},
   "outputs": [
    {
     "name": "stdout",
     "output_type": "stream",
     "text": [
      "120\n"
     ]
    }
   ],
   "source": [
    "i=5\n",
    "fact=1\n",
    "while i>0:\n",
    "    fact=fact*i\n",
    "    i=i-1\n",
    "print(fact)"
   ]
  },
  {
   "cell_type": "code",
   "execution_count": null,
   "id": "599a69e0",
   "metadata": {},
   "outputs": [
    {
     "name": "stdout",
     "output_type": "stream",
     "text": [
      "15\n"
     ]
    }
   ],
   "source": [
    "user_input=int(input(\"enter the value\"))\n",
    "sum_of_digit=0\n",
    "while user_input>0:\n",
    "    unit_digit=user_input%10\n",
    "    sum_of_digit=sum_of_digit+unit_digit\n",
    "    user_input=user_input//10\n",
    "\n",
    "print(sum_of_digit)\n",
    "\n",
    "   \n",
    "\n",
    "\n"
   ]
  },
  {
   "cell_type": "code",
   "execution_count": 19,
   "id": "f382dfeb",
   "metadata": {},
   "outputs": [
    {
     "name": "stdout",
     "output_type": "stream",
     "text": [
      "first element 1\n",
      "last element 20\n",
      "middle element {11}\n"
     ]
    }
   ],
   "source": [
    "list=[list for list in range(1,21)]\n",
    "print(\"first element\",list[0])\n",
    "print(\"last element\",list[-1])\n",
    "print(\"middle element\",{list[len(list)//2]})"
   ]
  },
  {
   "cell_type": "code",
   "execution_count": 1,
   "id": "6c85d0a0",
   "metadata": {},
   "outputs": [
    {
     "name": "stdout",
     "output_type": "stream",
     "text": [
      "[1, 2, 3, 4, 5]\n"
     ]
    },
    {
     "ename": "TypeError",
     "evalue": "'tuple' object is not callable",
     "output_type": "error",
     "traceback": [
      "\u001b[31m---------------------------------------------------------------------------\u001b[39m",
      "\u001b[31mTypeError\u001b[39m                                 Traceback (most recent call last)",
      "\u001b[36mCell\u001b[39m\u001b[36m \u001b[39m\u001b[32mIn[1]\u001b[39m\u001b[32m, line 5\u001b[39m\n\u001b[32m      3\u001b[39m \u001b[38;5;28mprint\u001b[39m(\u001b[38;5;28mlist\u001b[39m)\n\u001b[32m      4\u001b[39m \u001b[38;5;28mlist\u001b[39m.append(\u001b[32m6\u001b[39m)\n\u001b[32m----> \u001b[39m\u001b[32m5\u001b[39m tup=\u001b[38;5;28;43mtuple\u001b[39;49m\u001b[43m(\u001b[49m\u001b[38;5;28;43mlist\u001b[39;49m\u001b[43m)\u001b[49m\n\u001b[32m      6\u001b[39m \u001b[38;5;28mprint\u001b[39m(tup)\n",
      "\u001b[31mTypeError\u001b[39m: 'tuple' object is not callable"
     ]
    }
   ],
   "source": [
    "tuple=(1,2,3,4,5)\n",
    "list=list(tuple)\n",
    "print(list)\n",
    "list.append(6)\n",
    "tup=tuple(list)\n",
    "print(tup)"
   ]
  },
  {
   "cell_type": "code",
   "execution_count": 2,
   "id": "78303dea",
   "metadata": {},
   "outputs": [
    {
     "ename": "TypeError",
     "evalue": "'int' object is not iterable",
     "output_type": "error",
     "traceback": [
      "\u001b[31m---------------------------------------------------------------------------\u001b[39m",
      "\u001b[31mTypeError\u001b[39m                                 Traceback (most recent call last)",
      "\u001b[36mCell\u001b[39m\u001b[36m \u001b[39m\u001b[32mIn[2]\u001b[39m\u001b[32m, line 3\u001b[39m\n\u001b[32m      1\u001b[39m \u001b[38;5;28mtuple\u001b[39m=(\u001b[32m1\u001b[39m,\u001b[32m2\u001b[39m,\u001b[32m4\u001b[39m,\u001b[32m64\u001b[39m,\u001b[32m32\u001b[39m,\u001b[32m87\u001b[39m,\u001b[32m32\u001b[39m,\u001b[32m124\u001b[39m)\n\u001b[32m      2\u001b[39m \u001b[38;5;28;01mfor\u001b[39;00m value \u001b[38;5;129;01min\u001b[39;00m \u001b[38;5;28mtuple\u001b[39m:\n\u001b[32m----> \u001b[39m\u001b[32m3\u001b[39m     min_tuple=\u001b[38;5;28;43mmin\u001b[39;49m\u001b[43m(\u001b[49m\u001b[43mvalue\u001b[49m\u001b[43m)\u001b[49m\n\u001b[32m      4\u001b[39m     max_tuple=\u001b[38;5;28mmax\u001b[39m(value)\n\u001b[32m      5\u001b[39m     \u001b[38;5;28mprint\u001b[39m(min_tuple)\n",
      "\u001b[31mTypeError\u001b[39m: 'int' object is not iterable"
     ]
    }
   ],
   "source": [
    "tuple=(1,2,4,64,32,87,32,124)\n",
    "for value in tuple:\n",
    "    min_tuple=min(value)\n",
    "    max_tuple=max(value)\n",
    "    print(min_tuple)\n",
    "    print(max_tuple)"
   ]
  }
 ],
 "metadata": {
  "kernelspec": {
   "display_name": "Python 3",
   "language": "python",
   "name": "python3"
  },
  "language_info": {
   "codemirror_mode": {
    "name": "ipython",
    "version": 3
   },
   "file_extension": ".py",
   "mimetype": "text/x-python",
   "name": "python",
   "nbconvert_exporter": "python",
   "pygments_lexer": "ipython3",
   "version": "3.12.7"
  }
 },
 "nbformat": 4,
 "nbformat_minor": 5
}
