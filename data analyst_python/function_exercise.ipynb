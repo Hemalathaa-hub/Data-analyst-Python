{
 "cells": [
  {
   "cell_type": "markdown",
   "id": "e1ccd666",
   "metadata": {},
   "source": [
    "\n",
    "Define a function that takes a single integer as input and returns its square. Test the function with different inputs."
   ]
  },
  {
   "cell_type": "code",
   "execution_count": 1,
   "id": "e863036d",
   "metadata": {},
   "outputs": [
    {
     "name": "stdout",
     "output_type": "stream",
     "text": [
      "25\n"
     ]
    }
   ],
   "source": [
    "def square(x):\n",
    "    return x**2\n",
    "print(square(5))"
   ]
  },
  {
   "cell_type": "markdown",
   "id": "899852e2",
   "metadata": {},
   "source": [
    "### Assignment 2: Multiple Arguments\n",
    "\n",
    "Define a function that takes two integers as input and returns their sum. Test the function with different inputs."
   ]
  },
  {
   "cell_type": "code",
   "execution_count": 2,
   "id": "4ab93219",
   "metadata": {},
   "outputs": [
    {
     "name": "stdout",
     "output_type": "stream",
     "text": [
      "15\n"
     ]
    }
   ],
   "source": [
    "def add(a,b):\n",
    "    return a+b\n",
    "sum=add(5,10)\n",
    "print(sum)"
   ]
  },
  {
   "cell_type": "markdown",
   "id": "e1dc57dd",
   "metadata": {},
   "source": [
    "### Assignment 3: Default Arguments\n",
    "\n",
    "Define a function that takes two integers as input and returns their sum. The second integer should have a default value of 5. Test the function with different inputs."
   ]
  },
  {
   "cell_type": "code",
   "execution_count": null,
   "id": "0a1fd188",
   "metadata": {},
   "outputs": [
    {
     "data": {
      "text/plain": [
       "10"
      ]
     },
     "execution_count": 5,
     "metadata": {},
     "output_type": "execute_result"
    }
   ],
   "source": [
    "def sum(a,b=5):\n",
    "    return a+b\n",
    "sum(5) #here a=5 only so the sum value will be a=5 and b=5(default value)"
   ]
  },
  {
   "cell_type": "code",
   "execution_count": null,
   "id": "7f3a0e1e",
   "metadata": {},
   "outputs": [],
   "source": [
    "def sum(a,b=5):\n",
    "    return a+b\n",
    "sum(5+10) # here a=5 and b=10"
   ]
  },
  {
   "cell_type": "markdown",
   "id": "fa96c0cd",
   "metadata": {},
   "source": [
    "### Assignment 4: Keyword Arguments\n",
    "\n",
    "Define a function that takes three named arguments: first_name, last_name, and age, and returns a formatted string. Test the function with different inputs."
   ]
  },
  {
   "cell_type": "code",
   "execution_count": 15,
   "id": "28c6fa91",
   "metadata": {},
   "outputs": [
    {
     "name": "stdout",
     "output_type": "stream",
     "text": [
      "hema latha is 24 year old\n",
      "arun kumar is 34 year old\n"
     ]
    }
   ],
   "source": [
    "def formatted_string(first_name,last_name,age):\n",
    "    return f\"{first_name} {last_name} is {age} year old\"\n",
    "print(formatted_string(first_name=\"hema\",last_name=\"latha\",age=24))\n",
    "print(formatted_string(first_name=\"arun\",last_name=\"kumar\",age=34))"
   ]
  },
  {
   "cell_type": "code",
   "execution_count": 17,
   "id": "01f8b1ac",
   "metadata": {},
   "outputs": [
    {
     "name": "stdout",
     "output_type": "stream",
     "text": [
      "hema latha is 24 year old\n",
      "arun kumar is 34 year old\n"
     ]
    }
   ],
   "source": [
    "def formatted_string(first_name,last_name,age):\n",
    "    return f\"{first_name} {last_name} is {age} year old\"\n",
    "print(formatted_string(\"hema\",\"latha\",\"24\"))\n",
    "print(formatted_string(\"arun\",\"kumar\",\"34\"))"
   ]
  },
  {
   "cell_type": "markdown",
   "id": "91fe1be6",
   "metadata": {},
   "source": [
    "### Assignment 5: Variable-length Arguments\n",
    "\n",
    "Define a function that takes a variable number of integer arguments and returns their product. Test the function with different inputs."
   ]
  },
  {
   "cell_type": "code",
   "execution_count": 30,
   "id": "fb1e5804",
   "metadata": {},
   "outputs": [
    {
     "name": "stdout",
     "output_type": "stream",
     "text": [
      "24\n",
      "144\n"
     ]
    }
   ],
   "source": [
    "def mul(*args):\n",
    "    product=1\n",
    "    for values in args:\n",
    "        product*=values\n",
    "    return product\n",
    "print(mul(2,3,4))\n",
    "print(mul(4,3,2,6))\n",
    "    "
   ]
  },
  {
   "cell_type": "markdown",
   "id": "4cf4f629",
   "metadata": {},
   "source": [
    "### Assignment 6: Nested Functions\n",
    "\n",
    "Define a function that contains another function inside it. The outer function should take two integers as input and return the result of the inner function, which multiplies the two integers. Test the function with different inputs."
   ]
  },
  {
   "cell_type": "code",
   "execution_count": 41,
   "id": "e255df72",
   "metadata": {},
   "outputs": [
    {
     "name": "stdout",
     "output_type": "stream",
     "text": [
      "12\n"
     ]
    }
   ],
   "source": [
    "def out_fun(x,y):\n",
    "    def in_fun(a,b):\n",
    "        return x*y\n",
    "    return in_fun(x,y)\n",
    "print(out_fun(3,4))\n",
    "\n"
   ]
  },
  {
   "cell_type": "markdown",
   "id": "a07c7eae",
   "metadata": {},
   "source": [
    "### Assignment 7: Returning Multiple Values\n",
    "\n",
    "Define a function that takes a single integer as input and returns the integer squared, cubed, and raised to the power of four. Test the function with different inputs."
   ]
  },
  {
   "cell_type": "code",
   "execution_count": 42,
   "id": "b9a94709",
   "metadata": {},
   "outputs": [
    {
     "name": "stdout",
     "output_type": "stream",
     "text": [
      "(4, 8, 16)\n"
     ]
    }
   ],
   "source": [
    "def single(x):\n",
    "    return x**2,x**3,x**4\n",
    "print(single(2))"
   ]
  },
  {
   "cell_type": "markdown",
   "id": "789c7509",
   "metadata": {},
   "source": [
    "### Assignment 8: Recursive Function\n",
    "\n",
    "Define a recursive function that calculates the factorial of a given number. Test the function with different inputs."
   ]
  },
  {
   "cell_type": "code",
   "execution_count": 48,
   "id": "63bcb608",
   "metadata": {},
   "outputs": [
    {
     "name": "stdout",
     "output_type": "stream",
     "text": [
      "120\n"
     ]
    }
   ],
   "source": [
    "def factorial(n):\n",
    "    if n==0:\n",
    "        return 1\n",
    "    else:\n",
    "        return n*factorial(n-1)\n",
    "       \n",
    "print(factorial(5))"
   ]
  },
  {
   "cell_type": "markdown",
   "id": "70371408",
   "metadata": {},
   "source": [
    "### Assignment 9: Lambda Function\n",
    "\n",
    "Define a lambda function that takes two integers as input and returns their sum. Test the lambda function with different inputs."
   ]
  },
  {
   "cell_type": "code",
   "execution_count": 1,
   "id": "5c0c711d",
   "metadata": {},
   "outputs": [
    {
     "name": "stdout",
     "output_type": "stream",
     "text": [
      "11\n"
     ]
    }
   ],
   "source": [
    "x= lambda a,b:a+b\n",
    "print(x(5,6))\n",
    "\n"
   ]
  },
  {
   "cell_type": "markdown",
   "id": "50e3fa56",
   "metadata": {},
   "source": [
    "### Assignment 10: Map Function\n",
    "\n",
    "Use the map function to apply a lambda function that squares each number in a list of integers. Test with different lists."
   ]
  },
  {
   "cell_type": "code",
   "execution_count": 11,
   "id": "810808a0",
   "metadata": {},
   "outputs": [
    {
     "name": "stdout",
     "output_type": "stream",
     "text": [
      "[1, 4, 9, 16, 25, 36, 49, 64, 81]\n"
     ]
    }
   ],
   "source": [
    "numbers=[n for n in range(1,10)]\n",
    "square=list(map(lambda n:n**2,numbers))\n",
    "print(square)\n"
   ]
  },
  {
   "cell_type": "markdown",
   "id": "c28db864",
   "metadata": {},
   "source": [
    "### Assignment 11: Filter Function\n",
    "\n",
    "Use the filter function to filter out all odd numbers from a list of integers. Test with different lists."
   ]
  },
  {
   "cell_type": "code",
   "execution_count": 13,
   "id": "9a0e9196",
   "metadata": {},
   "outputs": [
    {
     "name": "stdout",
     "output_type": "stream",
     "text": [
      "[1, 3, 5, 7, 9]\n"
     ]
    }
   ],
   "source": [
    "def odd_numbers(number):\n",
    "    if number %2 !=0:\n",
    "        return True\n",
    "number=(x for x in range(1,10))\n",
    "odd=list(filter(odd_numbers,number))\n",
    "print(odd)"
   ]
  },
  {
   "cell_type": "markdown",
   "id": "7bafc274",
   "metadata": {},
   "source": [
    "### Assignment 12: Function Decorator\n",
    "\n",
    "Define a decorator function that prints 'Executing function...' before executing a function and 'Function executed.' after executing it. Apply this decorator to a function that takes a list of integers and returns their sum. Test the decorated function with different lists."
   ]
  },
  {
   "cell_type": "code",
   "execution_count": 18,
   "id": "7e89240e",
   "metadata": {},
   "outputs": [
    {
     "name": "stdout",
     "output_type": "stream",
     "text": [
      "executing function\n",
      "function executed\n",
      "6\n"
     ]
    }
   ],
   "source": [
    "def decorator_fun(*args):\n",
    "    print(\"executing function\")\n",
    "    for i in args:\n",
    "        sum_args=sum(i)\n",
    "        print(\"function executed\")\n",
    "        return sum_args\n",
    "lst=[1,2,3]\n",
    "total=decorator_fun(lst)\n",
    "print(total)"
   ]
  },
  {
   "cell_type": "markdown",
   "id": "388c48a1",
   "metadata": {},
   "source": [
    "### Assignment 13: Function with *args and **kwargs\n",
    "\n",
    "Define a function that takes variable-length arguments and keyword arguments and prints them. Test the function with different inputs."
   ]
  },
  {
   "cell_type": "code",
   "execution_count": 34,
   "id": "6d7a16e5",
   "metadata": {},
   "outputs": [
    {
     "name": "stdout",
     "output_type": "stream",
     "text": [
      "1\n",
      "2\n",
      "3\n",
      "4\n",
      "name hema\n",
      "age 28\n",
      "country india\n"
     ]
    }
   ],
   "source": [
    "def func(*args,**kwargs):\n",
    "    for value in args:\n",
    "        print(value)\n",
    "    for key,value in kwargs.items():\n",
    "        print(key,value)\n",
    "output=func(1,2,3,4,name=\"hema\",age=28,country=\"india\")\n",
    "\n"
   ]
  },
  {
   "cell_type": "markdown",
   "id": "3d086360",
   "metadata": {},
   "source": [
    "### Assignment 14: Higher-Order Function\n",
    "\n",
    "Define a higher-order function that takes a function and a list of integers as arguments, and applies the function to each integer in the list. Test with different functions and lists."
   ]
  },
  {
   "cell_type": "code",
   "execution_count": null,
   "id": "70b18e46",
   "metadata": {},
   "outputs": [],
   "source": [
    "def apply_function(func, lst):\n",
    "    return [func(x) for x in lst]\n",
    "\n",
    "# Test\n",
    "print(apply_function(lambda x: x ** 2, [1, 2, 3, 4, 5]))  # [1, 4, 9, 16, 25]\n",
    "print(apply_function(lambda x: x + 1, [1, 2, 3, 4, 5]))  # [2, 3, 4, 5, 6]"
   ]
  },
  {
   "cell_type": "markdown",
   "id": "a6a84be2",
   "metadata": {},
   "source": [
    "### Assignment 15: Function Documentation\n",
    "\n",
    "Define a function with a docstring that explains what the function does, its parameters, and its return value. Print the function's docstring."
   ]
  },
  {
   "cell_type": "code",
   "execution_count": null,
   "id": "9819d849",
   "metadata": {},
   "outputs": [],
   "source": [
    "def example_function(x, y):\n",
    "    \"\"\"\n",
    "    This function takes two integers and returns their sum.\n",
    "\n",
    "    Parameters:\n",
    "    x (int): The first integer.\n",
    "    y (int): The second integer.\n",
    "\n",
    "    Returns:\n",
    "    int: The sum of the two integers.\n",
    "    \"\"\"\n",
    "    return x + y\n",
    "\n",
    "# Print docstring\n",
    "print(example_function.__doc__)"
   ]
  }
 ],
 "metadata": {
  "kernelspec": {
   "display_name": "Python 3",
   "language": "python",
   "name": "python3"
  },
  "language_info": {
   "codemirror_mode": {
    "name": "ipython",
    "version": 3
   },
   "file_extension": ".py",
   "mimetype": "text/x-python",
   "name": "python",
   "nbconvert_exporter": "python",
   "pygments_lexer": "ipython3",
   "version": "3.12.7"
  }
 },
 "nbformat": 4,
 "nbformat_minor": 5
}
