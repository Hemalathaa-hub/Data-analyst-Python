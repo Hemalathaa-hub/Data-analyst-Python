{
 "cells": [
  {
   "cell_type": "markdown",
   "metadata": {},
   "source": [
    "CALCULATOR USING PYTHON"
   ]
  },
  {
   "cell_type": "code",
   "execution_count": 4,
   "metadata": {},
   "outputs": [
    {
     "name": "stdout",
     "output_type": "stream",
     "text": [
      "Addition of two number= 22\n",
      "subtraction of two number= 18\n",
      "Multiplication of two number= 40\n",
      "Division of two number= 10.0\n"
     ]
    }
   ],
   "source": [
    "num1=int(input(\"Enter the value of num1=\"))\n",
    "num2=int(input(\"Enter the value of num2=\"))\n",
    "\n",
    "sum=num1+num2\n",
    "sub=num1-num2\n",
    "mul=num1*num2\n",
    "div=num1/num2\n",
    "\n",
    "print(\"Addition of two number=\",sum)\n",
    "print(\"subtraction of two number=\",sub)\n",
    "print(\"Multiplication of two number=\",mul)\n",
    "print(\"Division of two number=\",div)\n"
   ]
  },
  {
   "cell_type": "markdown",
   "metadata": {},
   "source": [
    "Indentation program"
   ]
  },
  {
   "cell_type": "code",
   "execution_count": 2,
   "metadata": {},
   "outputs": [
    {
     "name": "stdout",
     "output_type": "stream",
     "text": [
      "c is the biggest number, the value of c is 5\n"
     ]
    }
   ],
   "source": [
    "a=int(input(\"Enter the value of a=\"))\n",
    "b=int(input(\"Enter the value of b=\"))\n",
    "c=int(input(\"Enter the value of c=\"))\n",
    "\n",
    "if a>b and a>c:\n",
    "    print(\"A is the biggest number, the value of A is\",a)\n",
    "elif b>c:\n",
    "    print(\"B is the biggest number, the value of b is\",b)\n",
    "else:\n",
    "    print(\"c is the biggest number, the value of c is\",c)\n"
   ]
  }
 ],
 "metadata": {
  "kernelspec": {
   "display_name": "Python 3",
   "language": "python",
   "name": "python3"
  },
  "language_info": {
   "codemirror_mode": {
    "name": "ipython",
    "version": 3
   },
   "file_extension": ".py",
   "mimetype": "text/x-python",
   "name": "python",
   "nbconvert_exporter": "python",
   "pygments_lexer": "ipython3",
   "version": "3.12.7"
  }
 },
 "nbformat": 4,
 "nbformat_minor": 2
}
