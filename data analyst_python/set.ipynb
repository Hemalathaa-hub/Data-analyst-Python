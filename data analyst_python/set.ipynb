{
 "cells": [
  {
   "cell_type": "markdown",
   "id": "faa70d62",
   "metadata": {},
   "source": [
    "\n",
    "\n",
    "Create a set with the first 10 positive integers. Print the set."
   ]
  },
  {
   "cell_type": "code",
   "execution_count": 2,
   "id": "e3a948b4",
   "metadata": {},
   "outputs": [
    {
     "name": "stdout",
     "output_type": "stream",
     "text": [
      "{1, 2, 3, 4, 5, 6, 7, 8, 9, 10}\n"
     ]
    }
   ],
   "source": [
    "set={1,2,3,4,5,6,7,8,9,10}\n",
    "print(set)"
   ]
  },
  {
   "cell_type": "markdown",
   "id": "f7ed81f9",
   "metadata": {},
   "source": [
    "### Assignment 2: Adding and Removing Elements\n",
    "\n",
    "Add the number 11 to the set created in Assignment 1. Then remove the number 1 from the set. Print the modified set."
   ]
  },
  {
   "cell_type": "code",
   "execution_count": 3,
   "id": "335dc89c",
   "metadata": {},
   "outputs": [
    {
     "name": "stdout",
     "output_type": "stream",
     "text": [
      "{1, 2, 3, 4, 5, 6, 7, 8, 9, 10, 11}\n"
     ]
    }
   ],
   "source": [
    "set.add(11)\n",
    "print(set)"
   ]
  },
  {
   "cell_type": "markdown",
   "id": "4ca2a185",
   "metadata": {},
   "source": [
    "### Assignment 3: Set Operations\n",
    "\n",
    "Create two sets: one with the first 5 positive integers and another with the first 5 even integers. Perform and print the results of union, intersection, difference, and symmetric difference operations on these sets."
   ]
  },
  {
   "cell_type": "code",
   "execution_count": 4,
   "id": "af38f431",
   "metadata": {},
   "outputs": [
    {
     "name": "stdout",
     "output_type": "stream",
     "text": [
      "{1, 2, 3, 4, 5, 6, 8, 10}\n",
      "{2, 4}\n",
      "{1, 3, 5}\n",
      "{1, 3, 5, 7, 9, 11}\n"
     ]
    }
   ],
   "source": [
    "set1={1,2,3,4,5}\n",
    "set2={2,4,6,8,10}\n",
    "union=set1.union(set2)\n",
    "intersection=set1.intersection(set2)\n",
    "difference=set1.difference(set2)\n",
    "symmetric_difference=set.symmetric_difference(set2)\n",
    "print(union)\n",
    "print(intersection)\n",
    "print(difference)\n",
    "print(symmetric_difference)"
   ]
  },
  {
   "cell_type": "markdown",
   "id": "8f8a11fd",
   "metadata": {},
   "source": [
    "### Assignment 4: Set Comprehensions\n",
    "\n",
    "Create a new set containing the squares of the first 10 positive integers using a set comprehension. Print the new set."
   ]
  },
  {
   "cell_type": "code",
   "execution_count": 9,
   "id": "167a0997",
   "metadata": {},
   "outputs": [
    {
     "name": "stdout",
     "output_type": "stream",
     "text": [
      "{64, 1, 4, 36, 9, 16, 49, 81, 25}\n"
     ]
    }
   ],
   "source": [
    "set_comprehension={square**2 for square in range(1,10)}\n",
    "print(set_comprehension)"
   ]
  },
  {
   "cell_type": "markdown",
   "id": "5b63c197",
   "metadata": {},
   "source": [
    "### Assignment 5: Filtering Sets\n",
    "\n",
    "Create a new set containing only the even numbers from the set created in Assignment 1 using a set comprehension. Print the new set."
   ]
  },
  {
   "cell_type": "code",
   "execution_count": 12,
   "id": "2438b5b9",
   "metadata": {},
   "outputs": [
    {
     "name": "stdout",
     "output_type": "stream",
     "text": [
      "{2, 4, 6, 8, 10}\n"
     ]
    }
   ],
   "source": [
    "new_set={x for x in set if x%2==0}\n",
    "print(new_set)"
   ]
  },
  {
   "cell_type": "markdown",
   "id": "e9acf09a",
   "metadata": {},
   "source": [
    "### Assignment 6: Set Methods\n",
    "\n",
    "Create a set with duplicate elements and remove the duplicates using set methods. Print the modified set."
   ]
  },
  {
   "cell_type": "code",
   "execution_count": 14,
   "id": "b170baed",
   "metadata": {},
   "outputs": [
    {
     "name": "stdout",
     "output_type": "stream",
     "text": [
      "{1, 21, 23, 24, 12}\n"
     ]
    }
   ],
   "source": [
    "dup_set={1,23,1,23,12,24,21,21}\n",
    "print(dup_set)"
   ]
  },
  {
   "cell_type": "markdown",
   "id": "fec712a7",
   "metadata": {},
   "source": [
    "### Assignment 7: Subsets and Supersets\n",
    "\n",
    "Create two sets: one with the first 5 positive integers and another with the first 3 positive integers. Check if the second set is a subset of the first set and if the first set is a superset of the second set. Print the results."
   ]
  },
  {
   "cell_type": "code",
   "execution_count": 15,
   "id": "3f4e1323",
   "metadata": {},
   "outputs": [
    {
     "name": "stdout",
     "output_type": "stream",
     "text": [
      "False\n",
      "True\n"
     ]
    }
   ],
   "source": [
    "set1={1,2,3,4,5}\n",
    "set2={1,2,3}\n",
    "print(set1.issubset(set2))\n",
    "print(set1.issuperset(set2))"
   ]
  },
  {
   "cell_type": "markdown",
   "id": "038517a5",
   "metadata": {},
   "source": [
    "### Assignment 8: Frozenset\n",
    "\n",
    "Create a frozenset with the first 5 positive integers. Print the frozenset."
   ]
  },
  {
   "cell_type": "code",
   "execution_count": 12,
   "id": "f89cd1c1",
   "metadata": {},
   "outputs": [
    {
     "name": "stdout",
     "output_type": "stream",
     "text": [
      "frozenset({1, 2, 3, 4, 5})\n"
     ]
    }
   ],
   "source": [
    "frozen=(1,2,4,5,3)\n",
    "set=frozenset(frozen)\n",
    "print(set)"
   ]
  },
  {
   "cell_type": "markdown",
   "id": "76943a8d",
   "metadata": {},
   "source": [
    "### Assignment 9: Set and List Conversion\n",
    "\n",
    "Create a set with the first 5 positive integers. Convert it to a list, append the number 6, and convert it back to a set. Print the resulting set."
   ]
  },
  {
   "cell_type": "code",
   "execution_count": 20,
   "id": "57f0a934",
   "metadata": {},
   "outputs": [
    {
     "ename": "TypeError",
     "evalue": "'frozenset' object is not callable",
     "output_type": "error",
     "traceback": [
      "\u001b[31m---------------------------------------------------------------------------\u001b[39m",
      "\u001b[31mTypeError\u001b[39m                                 Traceback (most recent call last)",
      "\u001b[36mCell\u001b[39m\u001b[36m \u001b[39m\u001b[32mIn[20]\u001b[39m\u001b[32m, line 4\u001b[39m\n\u001b[32m      2\u001b[39m positive_list=\u001b[38;5;28mlist\u001b[39m(postitive_set)\n\u001b[32m      3\u001b[39m positive_list.append(\u001b[32m6\u001b[39m)\n\u001b[32m----> \u001b[39m\u001b[32m4\u001b[39m postitive_set=\u001b[38;5;28;43mset\u001b[39;49m\u001b[43m(\u001b[49m\u001b[43mpositive_list\u001b[49m\u001b[43m)\u001b[49m\n\u001b[32m      5\u001b[39m \u001b[38;5;28mprint\u001b[39m(postitive_set)\n",
      "\u001b[31mTypeError\u001b[39m: 'frozenset' object is not callable"
     ]
    }
   ],
   "source": [
    "postitive_set=(2,1,4,5,7)\n",
    "positive_list=list(postitive_set)\n",
    "positive_list.append(6)\n",
    "postitive_set=set(positive_list)\n",
    "print(postitive_set)"
   ]
  },
  {
   "cell_type": "markdown",
   "id": "cc176c5a",
   "metadata": {},
   "source": [
    "### Assignment 10: Set and Dictionary\n",
    "\n",
    "Create a dictionary with set keys and integer values. Print the dictionary."
   ]
  },
  {
   "cell_type": "code",
   "execution_count": 25,
   "id": "406154c2",
   "metadata": {},
   "outputs": [
    {
     "name": "stdout",
     "output_type": "stream",
     "text": [
      "{'name': 'hema', 'age': 28, 'country': 'india'}\n"
     ]
    }
   ],
   "source": [
    "dict={\"name\":\"hema\",\"age\":28,\"country\":\"india\"}\n",
    "print(dict)"
   ]
  },
  {
   "cell_type": "markdown",
   "id": "43e888d2",
   "metadata": {},
   "source": [
    "### Assignment 11: Iterating Over Sets\n",
    "\n",
    "Create a set and iterate over the elements, printing each element."
   ]
  },
  {
   "cell_type": "code",
   "execution_count": 26,
   "id": "4f3e3bfd",
   "metadata": {},
   "outputs": [
    {
     "name": "stdout",
     "output_type": "stream",
     "text": [
      "1\n",
      "2\n",
      "3\n",
      "4\n",
      "5\n"
     ]
    }
   ],
   "source": [
    "set={1,2,3,4,5,3,2}\n",
    "for i in set:\n",
    "    print(i)"
   ]
  },
  {
   "cell_type": "markdown",
   "id": "87bf11ba",
   "metadata": {},
   "source": [
    "### Assignment 12: Removing Elements from Sets\n",
    "\n",
    "Create a set and remove elements from it until it is empty. Print the set after each removal."
   ]
  },
  {
   "cell_type": "code",
   "execution_count": 28,
   "id": "8204b033",
   "metadata": {},
   "outputs": [
    {
     "name": "stdout",
     "output_type": "stream",
     "text": [
      "{1, 2, 3, 4}\n",
      "{2, 3, 4}\n",
      "{3, 4}\n",
      "{4}\n",
      "set()\n"
     ]
    }
   ],
   "source": [
    "set={1,2,3,4,2,3}\n",
    "print(set)\n",
    "while set:\n",
    "    set.pop()\n",
    "    print(set)"
   ]
  },
  {
   "cell_type": "markdown",
   "id": "42284c66",
   "metadata": {},
   "source": [
    "### Assignment 13: Set Symmetric Difference Update\n",
    "\n",
    "Create two sets and update the first set with the symmetric difference of the two sets. Print the modified first set."
   ]
  },
  {
   "cell_type": "code",
   "execution_count": 35,
   "id": "8920b52d",
   "metadata": {},
   "outputs": [
    {
     "name": "stdout",
     "output_type": "stream",
     "text": [
      "{1, 2, 3, 7, 8, 9}\n"
     ]
    }
   ],
   "source": [
    "set1={1,2,3,4,5,6}\n",
    "set2={4,5,6,7,8,9}\n",
    "s_difference=set1.symmetric_difference(set2)\n",
    "print(s_difference)\n"
   ]
  },
  {
   "cell_type": "markdown",
   "id": "cff6efd2",
   "metadata": {},
   "source": [
    "### Assignment 14: Set Membership Testing\n",
    "\n",
    "Create a set and test if certain elements are present in the set. Print the results."
   ]
  },
  {
   "cell_type": "code",
   "execution_count": 37,
   "id": "c7ec5260",
   "metadata": {},
   "outputs": [
    {
     "name": "stdout",
     "output_type": "stream",
     "text": [
      "True\n",
      "False\n"
     ]
    }
   ],
   "source": [
    "set1={1,2,3,4,5}\n",
    "print(2 in set1)\n",
    "print(10 in set1)"
   ]
  },
  {
   "cell_type": "markdown",
   "id": "934b4d65",
   "metadata": {},
   "source": [
    "### Assignment 15: Set of Tuples\n",
    "\n",
    "Create a set containing tuples, where each tuple contains two elements. Print the set."
   ]
  },
  {
   "cell_type": "code",
   "execution_count": 38,
   "id": "e1bda487",
   "metadata": {},
   "outputs": [
    {
     "name": "stdout",
     "output_type": "stream",
     "text": [
      "{(2, 3), (1, 2)}\n"
     ]
    }
   ],
   "source": [
    "set_tuple={(1,2),(2,3)}\n",
    "print(set_tuple)"
   ]
  }
 ],
 "metadata": {
  "kernelspec": {
   "display_name": "Python 3",
   "language": "python",
   "name": "python3"
  },
  "language_info": {
   "codemirror_mode": {
    "name": "ipython",
    "version": 3
   },
   "file_extension": ".py",
   "mimetype": "text/x-python",
   "name": "python",
   "nbconvert_exporter": "python",
   "pygments_lexer": "ipython3",
   "version": "3.12.7"
  }
 },
 "nbformat": 4,
 "nbformat_minor": 5
}
