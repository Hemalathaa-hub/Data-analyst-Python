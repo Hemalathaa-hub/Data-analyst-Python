{
 "cells": [
  {
   "cell_type": "markdown",
   "id": "7dec2f0d",
   "metadata": {},
   "source": [
    "adding for loop and strip methods"
   ]
  },
  {
   "cell_type": "code",
   "execution_count": 7,
   "id": "dd053617",
   "metadata": {},
   "outputs": [
    {
     "name": "stdout",
     "output_type": "stream",
     "text": [
      "Wash the cloths\n",
      "Clean the vessels\n",
      "bye\n"
     ]
    }
   ],
   "source": [
    "list=[]\n",
    "while True:\n",
    "    Todo=input(\"Enter add,show or exit\")\n",
    "    Todo_s=Todo.strip()\n",
    "    match Todo_s:\n",
    "        case 'add':\n",
    "            todos=input(\"enter the add\")\n",
    "            list.append(todos)\n",
    "        case 'show':\n",
    "            for i in list:\n",
    "                print(i.capitalize())\n",
    "        case 'exit':\n",
    "            break\n",
    "print(\"bye\")\n"
   ]
  }
 ],
 "metadata": {
  "kernelspec": {
   "display_name": "Python 3",
   "language": "python",
   "name": "python3"
  },
  "language_info": {
   "codemirror_mode": {
    "name": "ipython",
    "version": 3
   },
   "file_extension": ".py",
   "mimetype": "text/x-python",
   "name": "python",
   "nbconvert_exporter": "python",
   "pygments_lexer": "ipython3",
   "version": "3.12.7"
  }
 },
 "nbformat": 4,
 "nbformat_minor": 5
}
