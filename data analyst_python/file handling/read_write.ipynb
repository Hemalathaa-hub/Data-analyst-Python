{
 "cells": [
  {
   "cell_type": "code",
   "execution_count": 5,
   "id": "9d410d45",
   "metadata": {},
   "outputs": [
    {
     "name": "stdout",
     "output_type": "stream",
     "text": [
      "hello everyone\n",
      "im hemalatha\n"
     ]
    }
   ],
   "source": [
    "with open('example.txt','w') as file:\n",
    "    file.write(\"hello everyone\\n\")\n",
    "    file.write(\"im hemalatha\")\n",
    "\n",
    "with open('example.txt','r') as file:\n",
    "    content=file.read()\n",
    "    print(content)"
   ]
  },
  {
   "cell_type": "code",
   "execution_count": 9,
   "id": "10b9701e",
   "metadata": {},
   "outputs": [
    {
     "name": "stdout",
     "output_type": "stream",
     "text": [
      "Total line in this path is 2, \n",
      " Total word in this path is 4, \n",
      " Total char in this path is 27\n"
     ]
    }
   ],
   "source": [
    "def count_lines(path):\n",
    "    with open(path,'r') as file:\n",
    "        lines=file.readlines()\n",
    "        line_count=len(lines)\n",
    "        word_count=sum(len(word.split()) for word in lines)\n",
    "        char_count=sum(len(word) for word in lines)\n",
    "        return line_count,word_count,char_count\n",
    "\n",
    "path='example.txt'\n",
    "lines,words,char=count_lines(path)\n",
    "print(f\"Total line in this path is {lines}, \\n Total word in this path is {words}, \\n Total char in this path is {char}\")\n"
   ]
  }
 ],
 "metadata": {
  "kernelspec": {
   "display_name": "Python 3",
   "language": "python",
   "name": "python3"
  },
  "language_info": {
   "codemirror_mode": {
    "name": "ipython",
    "version": 3
   },
   "file_extension": ".py",
   "mimetype": "text/x-python",
   "name": "python",
   "nbconvert_exporter": "python",
   "pygments_lexer": "ipython3",
   "version": "3.12.7"
  }
 },
 "nbformat": 4,
 "nbformat_minor": 5
}
